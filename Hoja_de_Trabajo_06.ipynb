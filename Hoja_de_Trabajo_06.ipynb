{
 "cells": [
  {
   "cell_type": "markdown",
   "metadata": {},
   "source": [
    "# Hoja de Trabajo 6\n"
   ]
  },
  {
   "cell_type": "markdown",
   "metadata": {},
   "source": [
    "Sebastian Solorzano 21826\n"
   ]
  },
  {
   "cell_type": "markdown",
   "metadata": {},
   "source": [
    "Manuel Rodas 21509\n"
   ]
  },
  {
   "cell_type": "markdown",
   "metadata": {},
   "source": [
    "## 1. Análisis de la Escalabilidad del Modelo (Total: 25 puntos)"
   ]
  },
  {
   "cell_type": "markdown",
   "metadata": {},
   "source": [
    "1) Cambie el número de observaciones a 100,000. Explique qué es lo que ocurre en\n",
    "términos de:\n",
    "\n",
    "    1. El tiempo de ejecución para resolver el problemas\n",
    "        - El tiempo de ejecución aumenta considerablemente, ya que al tener más datos, el modelo tiene que hacer más cálculos y por lo tanto, el tiempo de ejecución aumenta.\n",
    "\n",
    "    2. El resultado final vs lo encontrado en clase: es igual, o diferente...¿porqué?\n",
    "        - Si llega a camboar, ya que al haber mas datos se puede observar un conjunto de datos mas grande y con mas posibilidades por que genera un resultado, mostrando en el modelo 3d una superficie mas compleja."
   ]
  },
  {
   "cell_type": "markdown",
   "metadata": {},
   "source": [
    "2) Cambie el número de observaciones a 1,000,000. Explique qué es lo que ocurre\n",
    "en términos de:\n",
    "\n",
    "    1. El tiempo de ejecución para resolver el problemas\n",
    "        - El tiempo de ejecucion actual si fue muy distinto, ya que se tardo mas o menos 12s en poder resolver el problema, el cual es un tiempo considerablemente mayor al anterior.\n",
    "    2. El resultado final vs lo encontrado en clase: es igual, o diferente...¿porqué?\n",
    "        - Es muy diferente, ya que se puede observar una lista mucho mas grande de resultados, puediendo oberservar en la grafica un conjunto de datos mas soliido y con mas posibilidades."
   ]
  },
  {
   "cell_type": "markdown",
   "metadata": {},
   "source": [
    "## 2. Experimentación con la Tasa de Aprendizaje (Total: 25 puntos)"
   ]
  },
  {
   "cell_type": "markdown",
   "metadata": {},
   "source": [
    "3) “Juegue” un poco con el valor de la tasa de aprendizaje, por ejemplo 0.0001,\n",
    "0.001, 0.1, 1. Para cada uno de estos indique:\n",
    "\n",
    "    1. ¿Qué ocurre con el tiempo de ejecución?\n",
    "        - El tiempo de ejecucion varia dependiendo de la tasa de aprendizaje, ya que al tener una tasa de aprendizaje mas alta, el tiempo de ejecucion es menor, ya que el modelo se ajusta mas rapido a los datos, mientras que si es al revez el tiempo es muy probable que sea mayor\n",
    "\n",
    "    2. ¿Qué ocurre con la minimización de la pérdida?\n",
    "        - La minimizacion de la perdida varia dependiendo de la tasa de aprendizaje, ya que si la tasa de aprendizaje es muy alta, la perdida disminuye mas rapido, mientras que si es al revez la perdida disminuye mas lento.\n",
    "\n",
    "    3. ¿Qué ocurre con los pesos y los sesgos?\n",
    "        - Con el valor de 0.02 teniamos pesos y sesgos de [[ 2.00394906] [-2.99542941]] [4.33029287], hora que probamos con 0.0001\n",
    "        [[ 2.00390146][-2.99548765]] [4.34339911] esto nos muestra que los pesos y sesgos varian dependiendo de la tasa de aprendizaje, ya que si la tasa de aprendizaje es muy alta, los pesos y sesgos se ajustan mas rapido, mientras que si es al revez los pesos y sesgos se ajustan mas lento.\n",
    "\n",
    "    4. ¿Qué ocurre con las iteraciones?\n",
    "        - Las iteraciones se vuelven mas rapidas si la tasa de aprendizaje es mas alta, mientras que si es al revez las iteraciones se vuelven mas lentas, esto se debe a como el modelo se ajusta a los datos.\n",
    "\n",
    "    5. ¿El problema queda resuelto o no?\n",
    "        - si queda resuelto en la mayor manera posible\n",
    "\n",
    "    6. ¿Cuál es la apariencia de la última gráfica? ¿Se cumple con la condición de\n",
    "    que sea de 45 grados?\n",
    "\n",
    "        - si se cumple, se puede ver de manera clara que sigue manteniendo una recta en 45 grados, lo cual es lo que se espera de un modelo de regresion lineal."
   ]
  },
  {
   "cell_type": "code",
   "execution_count": null,
   "metadata": {
    "vscode": {
     "languageId": "plaintext"
    }
   },
   "outputs": [],
   "source": []
  }
 ],
 "metadata": {
  "language_info": {
   "name": "python"
  }
 },
 "nbformat": 4,
 "nbformat_minor": 2
}
